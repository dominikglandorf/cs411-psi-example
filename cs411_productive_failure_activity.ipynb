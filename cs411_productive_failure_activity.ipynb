{
  "cells": [
    {
      "cell_type": "markdown",
      "metadata": {
        "tags": [],
        "user_expressions": []
      },
      "source": "# CAR COMPANY\n# Problem Solving Phase / Notes: Read these carefully\nThis is a **Python Jupyter Notebook** containing both code and rich text elements, such as figures, links, equations etc. The notebook is generally split into the following sections:\n\n1. **Initial set of pre-filled cells**, that you should evaluate (run) just to load some Python modules (packages), the dataset required for your task and its variables in memory.\n2. **Description of a concrete task** associated with the dataset. \n3. **Final section (with one or more empty cells)** where you can perform analyses with the loaded dataset (e.g., write a few lines of code if needed), answer the question posed, and describe your reasoning in words.\n\nRead and execute each cell in order, without skipping forward. To execute any cell, place your cursor in the cell and either click the play button on the top left corner of the notebook, or, press Shift+Enter on your keyboard. It might take a couple of seconds to receive an output. \n\nHave fun!",
      "id": "c97da3c2"
    },
    {
      "cell_type": "code",
      "execution_count": null,
      "metadata": {
        "tags": []
      },
      "outputs": [],
      "source": "#Run the following to install necessary packages\n\nimport importlib\n\npackages_to_install = ['pandas', 'numpy', 'matplotlib']\nfor package in packages_to_install:\n    try:\n        importlib.import_module(package)\n        print(f\"{package} is already installed.\")\n    except ImportError:\n        print(f\"{package} is not installed. Installing...\")\n        !pip install {package}",
      "id": "7da38d53"
    },
    {
      "cell_type": "code",
      "execution_count": null,
      "metadata": {
        "tags": []
      },
      "outputs": [],
      "source": "#Run the following to import necessary packages and import dataset. Do not use any additional plotting libraries.\nimport pandas as pd\nimport numpy as np\nfrom pandas.plotting import parallel_coordinates\nfrom IPython.core.interactiveshell import InteractiveShell\nInteractiveShell.ast_node_interactivity = \"all\"\nimport matplotlib\nimport matplotlib.pyplot as plt\n%matplotlib inline\nmatplotlib.style.use('ggplot')\n\nd1 = \"AQ_phase1_dataset1.csv\"\nd2 = \"AQ_phase1_dataset2.csv\"\nd3 = \"AQ_phase1_dataset3.csv\"\nd4 = \"AQ_phase1_dataset4.csv\"\n\ndf1 = pd.read_csv(d1)\ndf2 = pd.read_csv(d2)\ndf3 = pd.read_csv(d3)\ndf4 = pd.read_csv(d4)\n\ndf1_copy=df1.copy()\ndf2_copy=df2.copy()\ndf3_copy=df3.copy()\ndf4_copy=df4.copy()\ndf1_copy['Input_Dataset_name'] = 'Dataset 1 (Company A)'\ndf2_copy['Input_Dataset_name'] = 'Dataset 2 (Company B)'\ndf3_copy['Input_Dataset_name'] = 'Dataset 3 (Company C)'\ndf4_copy['Input_Dataset_name'] = 'Dataset 4 (Company D)'\n\n#Print first five lines of dataset 1 as a check to see if the datasets are loaded properly.\ndf1.head(n=5)",
      "id": "3befff85"
    },
    {
      "cell_type": "markdown",
      "metadata": {},
      "source": "# DATASET DESCRIPTION\nEach of the 4 dataframes loaded above represents the **total number of units sold** (in 100’s) and **employee satisfaction** (on a scale of 1 to 100) from 182 sites all over the world for car companies 1, 2, 3 and 4. \n\nRun the cells below to obtain some descriptive (numerical) statistics and a parallel coordinates visualization for these datasets. \n\n1. **Median** is a measure of central tendency that separates the higher half from the lower half of a data sample.\n\n2. **Interquartile range (IQR)** is a measure of variability (statistical dispersion), based on dividing a data set into quartiles. Quartiles divide a rank-ordered data set into four equal parts. IQR is equal to the difference between 75th and 25th percentiles, or between upper and lower quartiles.\n\n3. **Spearman's correlation** measures the strength and direction of monotonic association between two variables. A monotonic relationship is a relationship that does one of the following: (1) as the value of one variable increases, so does the value of the other variable; or (2) as the value of one variable increases, the other variable value decreases. \n\n4. **Parallel coordinates** is a plotting technique for multivariate data (allows one to estimate some descriptive statistics visually). Here, data points are represented as connected line segments. Each vertical line represents one data attribute. One complete set of connected line segments across all the attributes represents one data point.",
      "id": "0ad4b46d"
    },
    {
      "cell_type": "code",
      "execution_count": null,
      "metadata": {
        "tags": []
      },
      "outputs": [],
      "source": "from IPython.core.interactiveshell import InteractiveShell\nInteractiveShell.ast_node_interactivity = \"all\"\n#You will receive 4 outputs: median for both variables, inter-quartile range for both variables, Spearman's correlation between the variables, and a parallel coordinates visualization\n\n#CAR COMPANY 1\nprint (\"Median\")\nround(df1.median(),2)\nprint (\" \")\nprint (\"----\")\n\nprint (\"Interquartile range\")\nround((df1.quantile(q=0.75) - df1.quantile(q=0.25)),2)\nprint (\" \")\nprint (\"----\")\n\nprint (\"Spearman correlation\")\nround(df1.corr(method='spearman'),2)\nprint (\" \")\nprint (\"----\")\n\nprint (\"Parallel coordinates visualization\")\nparallel_coordinates(df1_copy, 'Input_Dataset_name')\nplt.show()",
      "id": "e88f9f83"
    },
    {
      "cell_type": "code",
      "execution_count": null,
      "metadata": {
        "tags": []
      },
      "outputs": [],
      "source": "from IPython.core.interactiveshell import InteractiveShell\nInteractiveShell.ast_node_interactivity = \"all\"\n#You will receive 4 outputs: median for both variables, inter-quartile range for both variables, Spearman's correlation between the variables, and a parallel coordinates visualization\n\n#CAR COMPANY 2\nprint (\"Median\")\nround(df2.median(),2)\nprint (\" \")\nprint (\"----\")\n\nprint (\"Interquartile range\")\nround((df2.quantile(q=0.75) - df2.quantile(q=0.25)),2)\nprint (\" \")\nprint (\"----\")\n\nprint (\"Spearman correlation\")\nround(df2.corr(method='spearman'),2)\nprint (\" \")\nprint (\"----\")\n\nprint (\"Parallel coordinates visualization\")\nparallel_coordinates(df2_copy, 'Input_Dataset_name')\nplt.show()",
      "id": "7fa53967"
    },
    {
      "cell_type": "code",
      "execution_count": null,
      "metadata": {
        "tags": []
      },
      "outputs": [],
      "source": "from IPython.core.interactiveshell import InteractiveShell\nInteractiveShell.ast_node_interactivity = \"all\"\n#You will receive 4 outputs: median for both variables, inter-quartile range for both variables, Spearman's correlation between the variables, and a parallel coordinates visualization\n\n#CAR COMPANY 3\nprint (\"Median\")\nround(df3.median(),2)\nprint (\" \")\nprint (\"----\")\n\nprint (\"Interquartile range\")\nround((df3.quantile(q=0.75) - df3.quantile(q=0.25)),2)\nprint (\" \")\nprint (\"----\")\n\nprint (\"Spearman correlation\")\nround(df3.corr(method='spearman'),2)\nprint (\" \")\nprint (\"----\")\n\nprint (\"Parallel coordinates visualization\")\nparallel_coordinates(df3_copy, 'Input_Dataset_name')\nplt.show()",
      "id": "b4703765"
    },
    {
      "cell_type": "code",
      "execution_count": null,
      "metadata": {
        "tags": []
      },
      "outputs": [],
      "source": "from IPython.core.interactiveshell import InteractiveShell\nInteractiveShell.ast_node_interactivity = \"all\"\n#You will receive 4 outputs: median for both variables, inter-quartile range for both variables, Spearman's correlation between the variables, and a parallel coordinates visualization\n\n#CAR COMPANY 4\nprint (\"Median\")\nround(df4.median(),2)\nprint (\" \")\nprint (\"----\")\n\nprint (\"Interquartile range\")\nround((df4.quantile(q=0.75) - df4.quantile(q=0.25)),2)\nprint (\" \")\nprint (\"----\")\n\nprint (\"Spearman correlation\")\nround(df4.corr(method='spearman'),2)\nprint (\" \")\nprint (\"----\")\n\nprint (\"Parallel coordinates visualization\")\nparallel_coordinates(df4_copy, 'Input_Dataset_name')\nplt.show()",
      "id": "ff11f44b"
    },
    {
      "cell_type": "markdown",
      "metadata": {
        "tags": [],
        "user_expressions": []
      },
      "source": "# TASK\nDesign **as many measures** to **rank order** the datasets from the **most successful** to the **least successful** car company. Your measures should be based on consideration of every data point in the datasets. We expect you to **generate multiple measures**.\n\nFor **each measure that you design**: \n\n1. Select and print the resulting **dataset ordering** (e.g., 1234, 2134 etc)\n2. Write and print a **reasoning** behind your answer selection (an explanation of **why** you took certain steps or performed certain calculations to get to the solution)\n3. Select and print how you **used information about the descriptive statistics** (obtained by running the cells above) in reasoning about your answer\n4. Select and print your **confidence** in the designed measure\n\n**MAKE SURE** to print all four options for each measure.\n\n# Important note about designing your measures\nBelow is a **template for a cell** where you can design a measure. To create a new measure:\n\n1. Add a new code cell below the template cell (Click on **\"Insert a cell below\"** option at the **top right corner** of the cell)\n2. Copy all contents of the template cell to this newly added code cell. \n3. Use this newly added code cell to change your answers corresponding to the created measure. \n\nFollow a similar process to add new cells for creating as many measures as you are able to (within the allotted time). \n\n",
      "id": "3559f876"
    },
    {
      "cell_type": "code",
      "execution_count": null,
      "metadata": {
        "tags": []
      },
      "outputs": [],
      "source": "#Template for designing a measure. \n\n#NOTE: Round all your statistics to 2 decimal places before reasoning with them!! \n\n#[\"1234\", \"1243\", \"1324\", \"1342\", \"1423\", \"1432\", \"2134\", \"2143\", \"2314\", \"2341\", \"2413\", \"2431\", \"3124\", \"3142\", \"3214\", \"3241\", \"3412\", \"3421\", \"4123\", \"4132\", \"4213\", \"4231\", \"4312\", \"4321\"]\n#Choose one string from the list above, replacing 'None' below, as the order of the car company\ncarcompany_ordering_measure = 'None'\nprint(carcompany_ordering_measure)\n\n#Write your reasoning here, replacing 'None' below\ncarcompany_ordering_reasoning_measure = 'None'\nprint(carcompany_ordering_reasoning_measure)\n\noption_a = \"I found the descriptive statistics HELPFUL in designing the measure (my measure is BASED ON one or more of them)\"\noption_b = \"I found the descriptive statistics HELPFUL in designing the measure (my measure is NOT BASED ON them, but I still found them helpful in reasoning about what measures might or might not work for rank ordering the datasets)\"\noption_c = \"I found the descriptive statistics NOT HELPFUL in designing the measure (my measure is NOT BASED ON them and I did not find information from them to be convincing enough to answer the task)\"\noption_d = \"I found the descriptive statistics NOT HELPFUL in designing the measure (my measure is BASED ON them, but I did not find information from them to be convincing enough to answer the task)\"\n#Choose one of the four options above, replacing 'None' below\nused_descriptive_statistics_in_reasoning_measure = 'None'\nprint(used_descriptive_statistics_in_reasoning_measure)\n\n#Assign a value out of \"1-2-3-4-5\" to denote your confidence in this created measure\nconfidence_measure = 1\nprint(confidence_measure)",
      "id": "fbfc1505"
    },
    {
      "cell_type": "code",
      "execution_count": null,
      "metadata": {
        "tags": []
      },
      "outputs": [],
      "source": "#ONLY use this space below to write your code (if needed) for any measure you generate. DO NOT ERASE this code segment from the workbook.\n\n\n\n\n\n\n\n\n\n\n\n\n\n#Your intuitive ideas are valuable and we don't want you to stumble in designing your measure because of forgetting minor syntax-related details!! \n#Therefore, in case you have an idea and need any help with syntax in implementing it, you can access the following documentation files (use the \"Search\" tab for queries) and/or summarized syntax sheets.\n\n#a) Pandas library\n#Documentation file: https://pandas.pydata.org/pandas-docs/stable/\n#Syntax sheet: https://datacamp-community-prod.s3.amazonaws.com/fbc502d0-46b2-4e1b-b6b0-5402ff273251\n\n#b) Numpy library\n#Documentation file: https://docs.scipy.org/doc/numpy/user/index.html\n#Syntax sheet: https://datacamp-community-prod.s3.amazonaws.com/e9f83f72-a81b-42c7-af44-4e35b48b20b7\n\n#c) Matplotlib library\n#Documentation file: https://matplotlib.org/contents.html\n#Syntax sheet: https://datacamp-community-prod.s3.amazonaws.com/28b8210c-60cc-4f13-b0b4-5b4f2ad4790b\n\n#d) Scipy library\n#Documentation file: https://docs.scipy.org/doc/scipy/reference/\n#Syntax sheet: https://datacamp-community-prod.s3.amazonaws.com/5710caa7-94d4-4248-be94-d23dea9e668f\n",
      "id": "84533fd7"
    },
    {
      "cell_type": "markdown",
      "metadata": {
        "tags": [],
        "user_expressions": []
      },
      "source": "# Instruction Phase\n\nPlease **complete the Problem Solving phase** before moving to this phase.",
      "id": "8ec48cf8"
    },
    {
      "cell_type": "markdown",
      "metadata": {
        "tags": [],
        "user_expressions": []
      },
      "source": "### Execute the following code cell to watch the first video (4 mins)",
      "id": "794f1ce1"
    },
    {
      "cell_type": "code",
      "execution_count": null,
      "metadata": {},
      "outputs": [],
      "source": "from IPython.display import display, HTML\ndisplay(HTML('<iframe width=\"560\" height=\"315\" src=\"https://www.youtube.com/embed/zxh4JnVCwss?si=c7PN1ZqxDUHd6xzz\" title=\"Instruction Phase - Part 1\" frameborder=\"0\" allow=\"accelerometer; autoplay; clipboard-write; encrypted-media; gyroscope; picture-in-picture; web-share\" allowfullscreen></iframe>'))",
      "id": "e9367521"
    },
    {
      "cell_type": "markdown",
      "metadata": {
        "tags": [],
        "user_expressions": []
      },
      "source": "### Execute the following code cell to watch the second video (11 mins)",
      "id": "9945deff"
    },
    {
      "cell_type": "code",
      "execution_count": null,
      "metadata": {},
      "outputs": [],
      "source": "display(HTML('<iframe width=\"560\" height=\"315\" src=\"https://www.youtube.com/embed/VzNpSVnSbhg?si=dsxKEvcHWxDvFIp-\" title=\"Instruction Phase - Part 2\" frameborder=\"0\" allow=\"accelerometer; autoplay; clipboard-write; encrypted-media; gyroscope; picture-in-picture; web-share\" allowfullscreen></iframe>'))",
      "id": "7bd31ae5"
    },
    {
      "cell_type": "markdown",
      "metadata": {
        "tags": [],
        "user_expressions": []
      },
      "source": "### Execute the following code cell to watch the third video (4 mins)",
      "id": "dc496821"
    },
    {
      "cell_type": "code",
      "execution_count": null,
      "metadata": {},
      "outputs": [],
      "source": "display(HTML('<iframe width=\"560\" height=\"315\" src=\"https://www.youtube.com/embed/bryiXWN3owI?si=B0wIgj7tyQ1yShY3\" title=\"Instruction Phase - Part 3\" frameborder=\"0\" allow=\"accelerometer; autoplay; clipboard-write; encrypted-media; gyroscope; picture-in-picture; web-share\" allowfullscreen></iframe>'))",
      "id": "4a742128"
    }
  ],
  "metadata": {
    "kernelspec": {
      "display_name": "Python 3 (ipykernel)",
      "language": "python",
      "name": "python3"
    },
    "language_info": {
      "codemirror_mode": {
        "name": "ipython",
        "version": 3
      },
      "file_extension": ".py",
      "mimetype": "text/x-python",
      "name": "python",
      "nbconvert_exporter": "python",
      "pygments_lexer": "ipython3",
      "version": "3.11.5"
    },
    "orig_nbformat_minor": 4,
    "unianalytics_cell_mapping": [
      [
        "c97da3c2",
        "c97da3c2"
      ],
      [
        "7da38d53",
        "7da38d53"
      ],
      [
        "3befff85",
        "3befff85"
      ],
      [
        "0ad4b46d",
        "0ad4b46d"
      ],
      [
        "e88f9f83",
        "e88f9f83"
      ],
      [
        "7fa53967",
        "7fa53967"
      ],
      [
        "b4703765",
        "b4703765"
      ],
      [
        "ff11f44b",
        "ff11f44b"
      ],
      [
        "3559f876",
        "3559f876"
      ],
      [
        "fbfc1505",
        "fbfc1505"
      ],
      [
        "84533fd7",
        "84533fd7"
      ],
      [
        "8ec48cf8",
        "8ec48cf8"
      ],
      [
        "794f1ce1",
        "794f1ce1"
      ],
      [
        "e9367521",
        "e9367521"
      ],
      [
        "9945deff",
        "9945deff"
      ],
      [
        "7bd31ae5",
        "7bd31ae5"
      ],
      [
        "dc496821",
        "dc496821"
      ],
      [
        "4a742128",
        "4a742128"
      ]
    ],
    "unianalytics_notebook_id": "8d94b2d8-fc29-4ec1-af68-0d5cecd17054"
  },
  "nbformat": 4,
  "nbformat_minor": 5
}
